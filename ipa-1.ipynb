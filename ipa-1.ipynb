{
 "cells": [
  {
   "cell_type": "code",
   "execution_count": 6,
   "id": "b0dfcc10",
   "metadata": {},
   "outputs": [
    {
     "data": {
      "text/plain": [
       "10400"
      ]
     },
     "execution_count": 6,
     "metadata": {},
     "output_type": "execute_result"
    }
   ],
   "source": [
    "# Savings\n",
    "\n",
    "def savings(gross_pay, tax_rate, expenses):\n",
    "    int(gross_pay)\n",
    "    float(tax_rate)\n",
    "    int(expenses)\n",
    "    tax = round(gross_pay*tax_rate)\n",
    "    takehome_pay = (gross_pay-tax) - expenses\n",
    "    \n",
    "    return takehome_pay\n",
    "\n",
    "savings(12000, 0.05, 1000)\n"
   ]
  },
  {
   "cell_type": "code",
   "execution_count": 10,
   "id": "30a23855",
   "metadata": {},
   "outputs": [
    {
     "data": {
      "text/plain": [
       "'925kg'"
      ]
     },
     "execution_count": 10,
     "metadata": {},
     "output_type": "execute_result"
    }
   ],
   "source": [
    "# Material Waste\n",
    "\n",
    "def material_waste(total_material, material_units, num_jobs, job_consumption):\n",
    "    int(total_material)\n",
    "    int(num_jobs)\n",
    "    int(job_consumption)\n",
    "    consumed_material = num_jobs*job_consumption\n",
    "    material_waste = total_material - consumed_material\n",
    "    \n",
    "    return str(material_waste) + material_units\n",
    "\n",
    "material_waste(1000,\"kg\",5, 15)\n",
    "    "
   ]
  },
  {
   "cell_type": "code",
   "execution_count": 11,
   "id": "18b50de1",
   "metadata": {},
   "outputs": [
    {
     "data": {
      "text/plain": [
       "15000"
      ]
     },
     "execution_count": 11,
     "metadata": {},
     "output_type": "execute_result"
    }
   ],
   "source": [
    "# Interest\n",
    "\n",
    "def interest(principal, rate, periods):\n",
    "    int(principal)\n",
    "    float(rate)\n",
    "    int(periods)\n",
    "    simple_interest = principal*(rate*periods)\n",
    "    interest = round(principal + simple_interest)\n",
    "    \n",
    "    return interest\n",
    "\n",
    "interest(12000, 0.05, 5)"
   ]
  },
  {
   "cell_type": "code",
   "execution_count": 11,
   "id": "731f147d",
   "metadata": {},
   "outputs": [
    {
     "data": {
      "text/plain": [
       "17.570720424036292"
      ]
     },
     "execution_count": 11,
     "metadata": {},
     "output_type": "execute_result"
    }
   ],
   "source": [
    "# Body Mass Index\n",
    "\n",
    "def body_mass_index(weight, height):\n",
    "    kg = weight/2.205\n",
    "    metric_height = (height[0]*12+height[1])*0.0254\n",
    "    body_mass_index = kg/(metric_height*metric_height)\n",
    "    \n",
    "    return body_mass_index\n",
    "\n",
    "body_mass_index(99.208, [5,3])\n"
   ]
  }
 ],
 "metadata": {
  "kernelspec": {
   "display_name": "Python 3 (ipykernel)",
   "language": "python",
   "name": "python3"
  },
  "language_info": {
   "codemirror_mode": {
    "name": "ipython",
    "version": 3
   },
   "file_extension": ".py",
   "mimetype": "text/x-python",
   "name": "python",
   "nbconvert_exporter": "python",
   "pygments_lexer": "ipython3",
   "version": "3.10.9"
  }
 },
 "nbformat": 4,
 "nbformat_minor": 5
}

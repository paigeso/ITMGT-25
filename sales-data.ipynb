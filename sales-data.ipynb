{
 "cells": [
  {
   "cell_type": "markdown",
   "id": "c95edb4b",
   "metadata": {},
   "source": [
    "# Setting Up & Loading Data Frame"
   ]
  },
  {
   "cell_type": "code",
   "execution_count": 2,
   "id": "1e8d6d4e",
   "metadata": {},
   "outputs": [],
   "source": [
    "import matplotlib.pyplot as plt\n",
    "import pandas as pd\n",
    "import numpy as np"
   ]
  },
  {
   "cell_type": "code",
   "execution_count": 6,
   "id": "2a57e99e",
   "metadata": {
    "scrolled": true
   },
   "outputs": [
    {
     "data": {
      "text/html": [
       "<div>\n",
       "<style scoped>\n",
       "    .dataframe tbody tr th:only-of-type {\n",
       "        vertical-align: middle;\n",
       "    }\n",
       "\n",
       "    .dataframe tbody tr th {\n",
       "        vertical-align: top;\n",
       "    }\n",
       "\n",
       "    .dataframe thead th {\n",
       "        text-align: right;\n",
       "    }\n",
       "</style>\n",
       "<table border=\"1\" class=\"dataframe\">\n",
       "  <thead>\n",
       "    <tr style=\"text-align: right;\">\n",
       "      <th></th>\n",
       "      <th>invoice_no</th>\n",
       "      <th>customer_id</th>\n",
       "      <th>category</th>\n",
       "      <th>quantity</th>\n",
       "      <th>price</th>\n",
       "      <th>payment_method</th>\n",
       "      <th>invoice_date</th>\n",
       "      <th>shopping_mall</th>\n",
       "    </tr>\n",
       "  </thead>\n",
       "  <tbody>\n",
       "    <tr>\n",
       "      <th>0</th>\n",
       "      <td>I138884</td>\n",
       "      <td>229</td>\n",
       "      <td>Clothing</td>\n",
       "      <td>5</td>\n",
       "      <td>1500.40</td>\n",
       "      <td>Credit Card</td>\n",
       "      <td>5/8/2022</td>\n",
       "      <td>Kanyon</td>\n",
       "    </tr>\n",
       "    <tr>\n",
       "      <th>1</th>\n",
       "      <td>I317333</td>\n",
       "      <td>3433</td>\n",
       "      <td>Shoes</td>\n",
       "      <td>3</td>\n",
       "      <td>1800.51</td>\n",
       "      <td>Debit Card</td>\n",
       "      <td>12/12/2021</td>\n",
       "      <td>Forum Istanbul</td>\n",
       "    </tr>\n",
       "    <tr>\n",
       "      <th>2</th>\n",
       "      <td>I127801</td>\n",
       "      <td>644</td>\n",
       "      <td>Clothing</td>\n",
       "      <td>1</td>\n",
       "      <td>300.08</td>\n",
       "      <td>Cash</td>\n",
       "      <td>9/11/2021</td>\n",
       "      <td>Metrocity</td>\n",
       "    </tr>\n",
       "    <tr>\n",
       "      <th>3</th>\n",
       "      <td>I173702</td>\n",
       "      <td>4900</td>\n",
       "      <td>Shoes</td>\n",
       "      <td>5</td>\n",
       "      <td>3000.85</td>\n",
       "      <td>Credit Card</td>\n",
       "      <td>16/05/2021</td>\n",
       "      <td>Metropol AVM</td>\n",
       "    </tr>\n",
       "    <tr>\n",
       "      <th>4</th>\n",
       "      <td>I337046</td>\n",
       "      <td>1089</td>\n",
       "      <td>Books</td>\n",
       "      <td>4</td>\n",
       "      <td>60.60</td>\n",
       "      <td>Cash</td>\n",
       "      <td>24/10/2021</td>\n",
       "      <td>Kanyon</td>\n",
       "    </tr>\n",
       "    <tr>\n",
       "      <th>...</th>\n",
       "      <td>...</td>\n",
       "      <td>...</td>\n",
       "      <td>...</td>\n",
       "      <td>...</td>\n",
       "      <td>...</td>\n",
       "      <td>...</td>\n",
       "      <td>...</td>\n",
       "      <td>...</td>\n",
       "    </tr>\n",
       "    <tr>\n",
       "      <th>99452</th>\n",
       "      <td>I219422</td>\n",
       "      <td>2344</td>\n",
       "      <td>Souvenir</td>\n",
       "      <td>5</td>\n",
       "      <td>58.65</td>\n",
       "      <td>Credit Card</td>\n",
       "      <td>21/09/2022</td>\n",
       "      <td>Kanyon</td>\n",
       "    </tr>\n",
       "    <tr>\n",
       "      <th>99453</th>\n",
       "      <td>I325143</td>\n",
       "      <td>172</td>\n",
       "      <td>Food &amp; Beverage</td>\n",
       "      <td>2</td>\n",
       "      <td>10.46</td>\n",
       "      <td>Cash</td>\n",
       "      <td>22/09/2021</td>\n",
       "      <td>Forum Istanbul</td>\n",
       "    </tr>\n",
       "    <tr>\n",
       "      <th>99454</th>\n",
       "      <td>I824010</td>\n",
       "      <td>425</td>\n",
       "      <td>Food &amp; Beverage</td>\n",
       "      <td>2</td>\n",
       "      <td>10.46</td>\n",
       "      <td>Debit Card</td>\n",
       "      <td>28/03/2021</td>\n",
       "      <td>Metrocity</td>\n",
       "    </tr>\n",
       "    <tr>\n",
       "      <th>99455</th>\n",
       "      <td>I702964</td>\n",
       "      <td>577</td>\n",
       "      <td>Technology</td>\n",
       "      <td>4</td>\n",
       "      <td>4200.00</td>\n",
       "      <td>Cash</td>\n",
       "      <td>16/03/2021</td>\n",
       "      <td>Istinye Park</td>\n",
       "    </tr>\n",
       "    <tr>\n",
       "      <th>99456</th>\n",
       "      <td>I232867</td>\n",
       "      <td>30</td>\n",
       "      <td>Souvenir</td>\n",
       "      <td>3</td>\n",
       "      <td>35.19</td>\n",
       "      <td>Credit Card</td>\n",
       "      <td>15/10/2022</td>\n",
       "      <td>Mall of Istanbul</td>\n",
       "    </tr>\n",
       "  </tbody>\n",
       "</table>\n",
       "<p>99457 rows × 8 columns</p>\n",
       "</div>"
      ],
      "text/plain": [
       "      invoice_no  customer_id         category  quantity    price  \\\n",
       "0        I138884          229         Clothing         5  1500.40   \n",
       "1        I317333         3433            Shoes         3  1800.51   \n",
       "2        I127801          644         Clothing         1   300.08   \n",
       "3        I173702         4900            Shoes         5  3000.85   \n",
       "4        I337046         1089            Books         4    60.60   \n",
       "...          ...          ...              ...       ...      ...   \n",
       "99452    I219422         2344         Souvenir         5    58.65   \n",
       "99453    I325143          172  Food & Beverage         2    10.46   \n",
       "99454    I824010          425  Food & Beverage         2    10.46   \n",
       "99455    I702964          577       Technology         4  4200.00   \n",
       "99456    I232867           30         Souvenir         3    35.19   \n",
       "\n",
       "      payment_method invoice_date     shopping_mall  \n",
       "0        Credit Card     5/8/2022            Kanyon  \n",
       "1         Debit Card   12/12/2021    Forum Istanbul  \n",
       "2               Cash    9/11/2021         Metrocity  \n",
       "3        Credit Card   16/05/2021      Metropol AVM  \n",
       "4               Cash   24/10/2021            Kanyon  \n",
       "...              ...          ...               ...  \n",
       "99452    Credit Card   21/09/2022            Kanyon  \n",
       "99453           Cash   22/09/2021    Forum Istanbul  \n",
       "99454     Debit Card   28/03/2021         Metrocity  \n",
       "99455           Cash   16/03/2021      Istinye Park  \n",
       "99456    Credit Card   15/10/2022  Mall of Istanbul  \n",
       "\n",
       "[99457 rows x 8 columns]"
      ]
     },
     "execution_count": 6,
     "metadata": {},
     "output_type": "execute_result"
    }
   ],
   "source": [
    "df = pd.read_csv(\"fct_invoice.csv\")\n",
    "\n",
    "df"
   ]
  },
  {
   "cell_type": "code",
   "execution_count": 5,
   "id": "b8057533",
   "metadata": {},
   "outputs": [
    {
     "data": {
      "text/html": [
       "<div>\n",
       "<style scoped>\n",
       "    .dataframe tbody tr th:only-of-type {\n",
       "        vertical-align: middle;\n",
       "    }\n",
       "\n",
       "    .dataframe tbody tr th {\n",
       "        vertical-align: top;\n",
       "    }\n",
       "\n",
       "    .dataframe thead th {\n",
       "        text-align: right;\n",
       "    }\n",
       "</style>\n",
       "<table border=\"1\" class=\"dataframe\">\n",
       "  <thead>\n",
       "    <tr style=\"text-align: right;\">\n",
       "      <th></th>\n",
       "      <th>age</th>\n",
       "      <th>first_name</th>\n",
       "      <th>gender</th>\n",
       "      <th>id</th>\n",
       "      <th>last_name</th>\n",
       "    </tr>\n",
       "  </thead>\n",
       "  <tbody>\n",
       "    <tr>\n",
       "      <th>0</th>\n",
       "      <td>48.0</td>\n",
       "      <td>Nicholas</td>\n",
       "      <td>M</td>\n",
       "      <td>0</td>\n",
       "      <td>Flores</td>\n",
       "    </tr>\n",
       "    <tr>\n",
       "      <th>1</th>\n",
       "      <td>NaN</td>\n",
       "      <td>Jeffery</td>\n",
       "      <td>M</td>\n",
       "      <td>1</td>\n",
       "      <td>Rowe</td>\n",
       "    </tr>\n",
       "    <tr>\n",
       "      <th>2</th>\n",
       "      <td>57.0</td>\n",
       "      <td>Alexis</td>\n",
       "      <td>F</td>\n",
       "      <td>2</td>\n",
       "      <td>Benton</td>\n",
       "    </tr>\n",
       "    <tr>\n",
       "      <th>3</th>\n",
       "      <td>73.0</td>\n",
       "      <td>Amy</td>\n",
       "      <td>F</td>\n",
       "      <td>3</td>\n",
       "      <td>Johnson</td>\n",
       "    </tr>\n",
       "    <tr>\n",
       "      <th>4</th>\n",
       "      <td>20.0</td>\n",
       "      <td>David</td>\n",
       "      <td>M</td>\n",
       "      <td>4</td>\n",
       "      <td>Moore</td>\n",
       "    </tr>\n",
       "    <tr>\n",
       "      <th>...</th>\n",
       "      <td>...</td>\n",
       "      <td>...</td>\n",
       "      <td>...</td>\n",
       "      <td>...</td>\n",
       "      <td>...</td>\n",
       "    </tr>\n",
       "    <tr>\n",
       "      <th>5186</th>\n",
       "      <td>NaN</td>\n",
       "      <td>Arthur</td>\n",
       "      <td>M</td>\n",
       "      <td>9428</td>\n",
       "      <td>Harris</td>\n",
       "    </tr>\n",
       "    <tr>\n",
       "      <th>5187</th>\n",
       "      <td>NaN</td>\n",
       "      <td>David</td>\n",
       "      <td>M</td>\n",
       "      <td>9494</td>\n",
       "      <td>Roy</td>\n",
       "    </tr>\n",
       "    <tr>\n",
       "      <th>5188</th>\n",
       "      <td>85.0</td>\n",
       "      <td>Thomas</td>\n",
       "      <td>M</td>\n",
       "      <td>10350</td>\n",
       "      <td>Turner</td>\n",
       "    </tr>\n",
       "    <tr>\n",
       "      <th>5189</th>\n",
       "      <td>NaN</td>\n",
       "      <td>April</td>\n",
       "      <td>F</td>\n",
       "      <td>10587</td>\n",
       "      <td>Sanchez</td>\n",
       "    </tr>\n",
       "    <tr>\n",
       "      <th>5190</th>\n",
       "      <td>NaN</td>\n",
       "      <td>Andrew</td>\n",
       "      <td>M</td>\n",
       "      <td>10934</td>\n",
       "      <td>Compton</td>\n",
       "    </tr>\n",
       "  </tbody>\n",
       "</table>\n",
       "<p>5191 rows × 5 columns</p>\n",
       "</div>"
      ],
      "text/plain": [
       "       age first_name gender     id last_name\n",
       "0     48.0   Nicholas      M      0    Flores\n",
       "1      NaN    Jeffery      M      1      Rowe\n",
       "2     57.0     Alexis      F      2    Benton\n",
       "3     73.0        Amy      F      3   Johnson\n",
       "4     20.0      David      M      4     Moore\n",
       "...    ...        ...    ...    ...       ...\n",
       "5186   NaN     Arthur      M   9428    Harris\n",
       "5187   NaN      David      M   9494       Roy\n",
       "5188  85.0     Thomas      M  10350    Turner\n",
       "5189   NaN      April      F  10587   Sanchez\n",
       "5190   NaN     Andrew      M  10934   Compton\n",
       "\n",
       "[5191 rows x 5 columns]"
      ]
     },
     "execution_count": 5,
     "metadata": {},
     "output_type": "execute_result"
    }
   ],
   "source": [
    "json_df = pd.read_json(\"dim_customer.json\")\n",
    "\n",
    "json_df"
   ]
  },
  {
   "cell_type": "markdown",
   "id": "d131cc76",
   "metadata": {},
   "source": [
    "# Easy Questions"
   ]
  },
  {
   "cell_type": "code",
   "execution_count": null,
   "id": "40e75ddb",
   "metadata": {},
   "outputs": [],
   "source": [
    "# QUESTION ONE: How many unique customers are in the dataset?"
   ]
  },
  {
   "cell_type": "code",
   "execution_count": 31,
   "id": "303542b7",
   "metadata": {},
   "outputs": [
    {
     "name": "stdout",
     "output_type": "stream",
     "text": [
      "5191\n"
     ]
    }
   ],
   "source": [
    "u_c = df['customer_id'].nunique()\n",
    "\n",
    "print(u_c)"
   ]
  },
  {
   "cell_type": "code",
   "execution_count": null,
   "id": "cfe78365",
   "metadata": {},
   "outputs": [],
   "source": [
    "# QUESTION TWO PART ONE: What are the different categories of products available?\n",
    "# QUESTION TWO PART TWO: How many unique categories are there?"
   ]
  },
  {
   "cell_type": "code",
   "execution_count": 32,
   "id": "027da2d6",
   "metadata": {},
   "outputs": [
    {
     "name": "stdout",
     "output_type": "stream",
     "text": [
      "['Clothing' 'Shoes' 'Books' 'Cosmetics' 'Food & Beverage' 'Toys'\n",
      " 'Technology' 'Souvenir']\n",
      "8\n"
     ]
    }
   ],
   "source": [
    "c = df['category'].unique()\n",
    "cc = df['category'].nunique()\n",
    "\n",
    "print(c)\n",
    "print(cc)"
   ]
  },
  {
   "cell_type": "code",
   "execution_count": null,
   "id": "94b34f61",
   "metadata": {},
   "outputs": [],
   "source": [
    "# QUESTION THREE PART ONE: Which payment method is the most popular?\n",
    "# QUESTION THREE PART TWO: How many times was it used?"
   ]
  },
  {
   "cell_type": "code",
   "execution_count": 33,
   "id": "cb9fd883",
   "metadata": {},
   "outputs": [
    {
     "name": "stdout",
     "output_type": "stream",
     "text": [
      "Cash\n",
      "44447\n"
     ]
    }
   ],
   "source": [
    "pm_count = df.groupby('payment_method').size()\n",
    "\n",
    "pm2 = max(list(pm_count))\n",
    "pm1 = pm_count[pm_count==pm2].index[0]\n",
    "\n",
    "print(pm1)\n",
    "print(pm2)"
   ]
  },
  {
   "cell_type": "markdown",
   "id": "f4d5fc3e",
   "metadata": {},
   "source": [
    "# Medium Questions"
   ]
  },
  {
   "cell_type": "code",
   "execution_count": null,
   "id": "f216bd34",
   "metadata": {},
   "outputs": [],
   "source": [
    "# QUESTION ONE: What are the three most popular categories, by total sales?"
   ]
  },
  {
   "cell_type": "code",
   "execution_count": 34,
   "id": "3b1f8654",
   "metadata": {},
   "outputs": [
    {
     "name": "stdout",
     "output_type": "stream",
     "text": [
      "['Clothing', 'Shoes', 'Technology']\n"
     ]
    }
   ],
   "source": [
    "df['sales'] = df['quantity']*df['price']\n",
    "group_cat = df.groupby('category')['sales'].sum()\n",
    "\n",
    "pop = []\n",
    "for i in range(3):\n",
    "    pop.append(group_cat.sort_values(ascending=False)[0:3].index[i])\n",
    "\n",
    "print(pop)"
   ]
  },
  {
   "cell_type": "code",
   "execution_count": 35,
   "id": "7d960edc",
   "metadata": {},
   "outputs": [
    {
     "name": "stdout",
     "output_type": "stream",
     "text": [
      "Total sales for the top 3 most popular category\n",
      "category\n",
      "Clothing      1.139968e+08\n",
      "Shoes         6.655345e+07\n",
      "Technology    5.786235e+07\n",
      "Name: sales, dtype: float64\n"
     ]
    }
   ],
   "source": [
    "df['sales'] = df['quantity']*df['price']\n",
    "group_cat = df.groupby('category')['sales'].sum()\n",
    "\n",
    "ps = group_cat.sort_values(ascending=False)[0:3]\n",
    "\n",
    "print('Total sales for the top 3 most popular category')\n",
    "print(ps)"
   ]
  },
  {
   "cell_type": "code",
   "execution_count": null,
   "id": "fa26a629",
   "metadata": {},
   "outputs": [],
   "source": [
    "# QUESTION TWO: What are the total sales attributed to customers over the age of 45?"
   ]
  },
  {
   "cell_type": "code",
   "execution_count": 36,
   "id": "2184d6ce",
   "metadata": {},
   "outputs": [
    {
     "name": "stdout",
     "output_type": "stream",
     "text": [
      "82039768.15\n"
     ]
    }
   ],
   "source": [
    "df['sales'] = df['quantity']*df['price']\n",
    "\n",
    "joint = df.merge(json_df, how='outer', left_on='customer_id', right_on='id')\n",
    "\n",
    "tdf = joint.loc[joint['age'] >45, 'sales'].sum()\n",
    "\n",
    "print(tdf)"
   ]
  },
  {
   "cell_type": "code",
   "execution_count": null,
   "id": "d5afc23c",
   "metadata": {},
   "outputs": [],
   "source": [
    "# QUESTION THREE: How is the data distributed across different invoice dates? Are there any seasonal trends or patterns? (Use a graph for this)"
   ]
  },
  {
   "cell_type": "code",
   "execution_count": 37,
   "id": "76cb229b",
   "metadata": {
    "scrolled": true
   },
   "outputs": [
    {
     "data": {
      "image/png": "[encoded data removed]",
      "text/plain": [
       "<Figure size 640x480 with 1 Axes>"
      ]
     },
     "metadata": {},
     "output_type": "display_data"
    }
   ],
   "source": [
    "df[\"invoice_date\"] = pd.to_datetime(df[\"invoice_date\"])\n",
    "\n",
    "joint = df.merge(json_df, how=\"outer\", left_on=\"customer_id\", right_on=\"id\")\n",
    "\n",
    "grouped_data = joint.groupby(\"invoice_date\")[\"sales\"].sum()\n",
    "\n",
    "plt.plot(grouped_data.index, grouped_data.values)\n",
    "plt.xlabel(\"Invoice Date\", fontdict = {'fontname': 'Georgia', 'fontsize': 12})\n",
    "plt.ylabel(\"Total Sales\", fontdict = {'fontname': 'Georgia', 'fontsize': 12})\n",
    "plt.title(\"Distribution of Data Across Different Invoice Dates\", fontdict = {'fontname': 'Georgia', 'fontsize': 15})\n",
    "plt.xticks(rotation = 'vertical', size = 8)\n",
    "plt.tight_layout()\n",
    "plt.show()"
   ]
  },
  {
   "cell_type": "code",
   "execution_count": 27,
   "id": "7c86d60c",
   "metadata": {},
   "outputs": [],
   "source": [
    "# QUESTION THREE: Insights\n",
    "\n",
    "# As we can observe in the graph, there are numerous fluctuations in the trend line. \n",
    "# Particularly, during the months leading up to december, we can see that sales are at their peak.\n",
    "# This could be due to the celebration of numerous upcoming holidays such as Christmas, New Years, and Hanukkah. \n",
    "# Hence, this would entice numerous customers to purchase gifts for their loved ones to better celebrate these special times."
   ]
  },
  {
   "cell_type": "markdown",
   "id": "2c7fc255",
   "metadata": {},
   "source": [
    "# Hard Question"
   ]
  },
  {
   "cell_type": "code",
   "execution_count": null,
   "id": "71d7a95e",
   "metadata": {},
   "outputs": [],
   "source": [
    "# QUESTION ONE: Create a pivot table showing the breakdown of sales across these dimensions in this order: category, decade age range (e.g., 10-19, 20-29, and so forth)"
   ]
  },
  {
   "cell_type": "code",
   "execution_count": 39,
   "id": "f6cf9117",
   "metadata": {},
   "outputs": [
    {
     "name": "stdout",
     "output_type": "stream",
     "text": [
      "age_group        [0, 10)    [10, 20)     [20, 30)     [30, 40)     [40, 50)  \\\n",
      "category                                                                      \n",
      "Books                0.0    12801.75     79461.75     84143.10     87203.40   \n",
      "Clothing             0.0  1927413.84  10250732.80  11354126.96  11215189.92   \n",
      "Cosmetics            0.0   109619.36    605915.32    723544.70    665034.96   \n",
      "Food & Beverage      0.0    13582.31     73491.96     87246.86     89553.29   \n",
      "Shoes                0.0   993281.35   5924878.24   7200839.66   7025590.02   \n",
      "Souvenir             0.0    12375.15     54943.32     64092.72     66391.80   \n",
      "Technology           0.0  1129800.00   5261550.00   6159300.00   5954550.00   \n",
      "Toys                 0.0    60426.24    385100.80    420582.40    390906.88   \n",
      "\n",
      "age_group           [50, 60)     [60, 70)    [70, 80)    [80, 90)  [90, 100)  \n",
      "category                                                                      \n",
      "Books               74962.20     80476.80    54827.85    26664.00        0.0  \n",
      "Clothing         10321851.76  10660642.08  7769371.28  4493698.00        0.0  \n",
      "Cosmetics          587780.96    649990.76   419082.62   254531.60        0.0  \n",
      "Food & Beverage     72425.04     80976.09    55050.98    31332.93        0.0  \n",
      "Shoes             5852857.84   5978893.54  4480269.05  2628744.60        0.0  \n",
      "Souvenir            54943.32     55025.43    38673.81    23718.06        0.0  \n",
      "Technology        4435200.00   5471550.00  3638250.00  1946700.00        0.0  \n",
      "Toys               345067.52    363955.20   273244.16   153932.80        0.0  \n"
     ]
    }
   ],
   "source": [
    "bins = range(0,101,10)\n",
    "\n",
    "joint[\"age_group\"] = pd.cut(x=joint[\"age\"], bins=bins, right=False, include_lowest=True)\n",
    "\n",
    "age_group = joint.groupby(\"age_group\")[\"age\"]\n",
    "\n",
    "pivot_table = joint.groupby(\"category\").first().reset_index()\n",
    "pivot_table = pd.pivot_table(joint, values=\"sales\", index=\"category\", columns=\"age_group\", aggfunc=np.sum)\n",
    "\n",
    "print(pivot_table)"
   ]
  }
 ],
 "metadata": {
  "kernelspec": {
   "display_name": "Python 3 (ipykernel)",
   "language": "python",
   "name": "python3"
  },
  "language_info": {
   "codemirror_mode": {
    "name": "ipython",
    "version": 3
   },
   "file_extension": ".py",
   "mimetype": "text/x-python",
   "name": "python",
   "nbconvert_exporter": "python",
   "pygments_lexer": "ipython3",
   "version": "3.10.9"
  }
 },
 "nbformat": 4,
 "nbformat_minor": 5
}
